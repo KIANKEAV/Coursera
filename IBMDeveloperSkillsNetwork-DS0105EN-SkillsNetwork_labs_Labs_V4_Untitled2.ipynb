{
  "metadata": {
    "language_info": {
      "file_extension": ".py",
      "mimetype": "text/x-python",
      "name": "python",
      "version": "3.10.2"
    },
    "kernelspec": {
      "name": "xeus-python",
      "display_name": "Python (XPython)",
      "language": "python"
    }
  },
  "nbformat_minor": 4,
  "nbformat": 4,
  "cells": [
    {
      "cell_type": "markdown",
      "source": "# My Notebook",
      "metadata": {}
    },
    {
      "cell_type": "markdown",
      "source": "introduction",
      "metadata": {}
    },
    {
      "cell_type": "markdown",
      "source": "Data Science Languages are:\n\n1. python\n2. R\n3. SQL\n4. C++\n5. JAVA ",
      "metadata": {}
    },
    {
      "cell_type": "markdown",
      "source": "some of the liabraries are:\n    1.tenserflow\n    2.Numpy\n    3.Scipy\n    4.Pandas\n    5.matplotlib\n    6.keras\n    7.scikit-learn\n    8.pytorch",
      "metadata": {}
    },
    {
      "cell_type": "markdown",
      "source": "|Data Science Tools|\n|---|\n|SAS|\n|Apache Hadoop|\n|TenserFlow|",
      "metadata": {}
    },
    {
      "cell_type": "markdown",
      "source": "### Introducing Arithmetic Expression Examples",
      "metadata": {}
    },
    {
      "cell_type": "code",
      "source": "# code cell to add and multiply numbers\n(5+4)*3",
      "metadata": {
        "trusted": true
      },
      "execution_count": 2,
      "outputs": [
        {
          "execution_count": 2,
          "output_type": "execute_result",
          "data": {
            "text/plain": "27"
          },
          "metadata": {}
        }
      ]
    },
    {
      "cell_type": "code",
      "source": "#converting 180minutes to hour\n180/60",
      "metadata": {
        "trusted": true
      },
      "execution_count": 3,
      "outputs": [
        {
          "execution_count": 3,
          "output_type": "execute_result",
          "data": {
            "text/plain": "3.0"
          },
          "metadata": {}
        }
      ]
    },
    {
      "cell_type": "markdown",
      "source": "_objective_\n* list popular languages for Data science\n* list popular languages for Data science\n* list of well known Data Science Tools\n* Arithmetic Operations",
      "metadata": {}
    },
    {
      "cell_type": "markdown",
      "source": "## Author\nKeshav",
      "metadata": {}
    },
    {
      "cell_type": "code",
      "source": "",
      "metadata": {},
      "execution_count": null,
      "outputs": []
    }
  ]
}